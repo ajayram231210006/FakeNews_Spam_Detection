{
 "cells": [
  {
   "cell_type": "code",
   "execution_count": 1,
   "id": "f98db6d1-06b4-4dad-bde0-d7b43dbd16c3",
   "metadata": {},
   "outputs": [
    {
     "name": "stdout",
     "output_type": "stream",
     "text": [
      "✅ Combined dataset saved as data/raw/fake_news.csv\n",
      "                                               title  \\\n",
      "0  Ben Stein Calls Out 9th Circuit Court: Committ...   \n",
      "1  Trump drops Steve Bannon from National Securit...   \n",
      "2  Puerto Rico expects U.S. to lift Jones Act shi...   \n",
      "3   OOPS: Trump Just Accidentally Confirmed He Le...   \n",
      "4  Donald Trump heads for Scotland to reopen a go...   \n",
      "\n",
      "                                                text       subject  \\\n",
      "0  21st Century Wire says Ben Stein, reputable pr...       US_News   \n",
      "1  WASHINGTON (Reuters) - U.S. President Donald T...  politicsNews   \n",
      "2  (Reuters) - Puerto Rico Governor Ricardo Rosse...  politicsNews   \n",
      "3  On Monday, Donald Trump once again embarrassed...          News   \n",
      "4  GLASGOW, Scotland (Reuters) - Most U.S. presid...  politicsNews   \n",
      "\n",
      "                  date  label  \n",
      "0    February 13, 2017      1  \n",
      "1       April 5, 2017       0  \n",
      "2  September 27, 2017       0  \n",
      "3         May 22, 2017      1  \n",
      "4       June 24, 2016       0  \n"
     ]
    }
   ],
   "source": [
    "import pandas as pd\n",
    "\n",
    "fake = pd.read_csv(\"data/raw/Fake.csv\")\n",
    "true = pd.read_csv(\"data/raw/True.csv\")\n",
    "\n",
    "# Add labels: 1 = Fake, 0 = Real\n",
    "fake[\"label\"] = 1\n",
    "true[\"label\"] = 0\n",
    "\n",
    "# Combine them\n",
    "data = pd.concat([fake, true], axis=0).sample(frac=1, random_state=42).reset_index(drop=True)\n",
    "\n",
    "# Save unified dataset\n",
    "data.to_csv(\"data/raw/fake_news.csv\", index=False)\n",
    "\n",
    "print(\"✅ Combined dataset saved as data/raw/fake_news.csv\")\n",
    "print(data.head())\n"
   ]
  },
  {
   "cell_type": "code",
   "execution_count": 3,
   "id": "f43e277e-84c0-49a1-b231-6bd1655bdf00",
   "metadata": {},
   "outputs": [
    {
     "name": "stdout",
     "output_type": "stream",
     "text": [
      "Index(['title', 'text', 'subject', 'date', 'label'], dtype='object')\n",
      "                                               title  \\\n",
      "0  Ben Stein Calls Out 9th Circuit Court: Committ...   \n",
      "1  Trump drops Steve Bannon from National Securit...   \n",
      "2  Puerto Rico expects U.S. to lift Jones Act shi...   \n",
      "3   OOPS: Trump Just Accidentally Confirmed He Le...   \n",
      "4  Donald Trump heads for Scotland to reopen a go...   \n",
      "\n",
      "                                                text       subject  \\\n",
      "0  21st Century Wire says Ben Stein, reputable pr...       US_News   \n",
      "1  WASHINGTON (Reuters) - U.S. President Donald T...  politicsNews   \n",
      "2  (Reuters) - Puerto Rico Governor Ricardo Rosse...  politicsNews   \n",
      "3  On Monday, Donald Trump once again embarrassed...          News   \n",
      "4  GLASGOW, Scotland (Reuters) - Most U.S. presid...  politicsNews   \n",
      "\n",
      "                  date  label  \n",
      "0    February 13, 2017      1  \n",
      "1       April 5, 2017       0  \n",
      "2  September 27, 2017       0  \n",
      "3         May 22, 2017      1  \n",
      "4       June 24, 2016       0  \n",
      "  label                                               text\n",
      "0   ham  Go until jurong point, crazy.. Available only ...\n",
      "1   ham                      Ok lar... Joking wif u oni...\n",
      "2  spam  Free entry in 2 a wkly comp to win FA Cup fina...\n",
      "3   ham  U dun say so early hor... U c already then say...\n",
      "4   ham  Nah I don't think he goes to usf, he lives aro...\n"
     ]
    }
   ],
   "source": [
    "import pandas as pd\n",
    "\n",
    "# For Fake News\n",
    "df1 = pd.read_csv('data/raw/fake_news.csv')\n",
    "print(df1.columns)\n",
    "print(df1.head())\n",
    "\n",
    "# For SMS Spam (tab-separated)\n",
    "df2 = pd.read_csv('data/raw/SMSSpamCollection', sep='\\t', names=['label', 'text'])\n",
    "print(df2.head())\n"
   ]
  },
  {
   "cell_type": "code",
   "execution_count": null,
   "id": "f4aa26bb-f582-4882-b23b-c6f5f20adc00",
   "metadata": {},
   "outputs": [],
   "source": [
    "Step-by-step — Convert SMSSpamCollection text file → usable CSV"
   ]
  },
  {
   "cell_type": "code",
   "execution_count": 4,
   "id": "fb218583-547e-43c0-8222-a9d5745bccee",
   "metadata": {},
   "outputs": [
    {
     "name": "stdout",
     "output_type": "stream",
     "text": [
      "  label                                               text\n",
      "0   ham  Go until jurong point, crazy.. Available only ...\n",
      "1   ham                      Ok lar... Joking wif u oni...\n",
      "2  spam  Free entry in 2 a wkly comp to win FA Cup fina...\n",
      "3   ham  U dun say so early hor... U c already then say...\n",
      "4   ham  Nah I don't think he goes to usf, he lives aro...\n",
      "label\n",
      "ham     4825\n",
      "spam     747\n",
      "Name: count, dtype: int64\n"
     ]
    }
   ],
   "source": [
    "import pandas as pd\n",
    "\n",
    "# Read tab-separated text file (no headers)\n",
    "sms = pd.read_csv(\n",
    "    \"data/raw/SMSSpamCollection\",\n",
    "    sep='\\t',              # tab-separated\n",
    "    names=['label', 'text'],  # add proper column names\n",
    "    encoding='latin1'       # prevents Unicode errors\n",
    ")\n",
    "\n",
    "print(sms.head())\n",
    "print(sms['label'].value_counts())\n"
   ]
  },
  {
   "cell_type": "code",
   "execution_count": 5,
   "id": "8d51fabd-e988-43e0-8f05-cf350e6245a4",
   "metadata": {},
   "outputs": [
    {
     "name": "stdout",
     "output_type": "stream",
     "text": [
      "✅ Saved as data/raw/sms_spam.csv\n"
     ]
    }
   ],
   "source": [
    "sms.to_csv(\"data/raw/sms_spam.csv\", index=False)\n",
    "print(\"✅ Saved as data/raw/sms_spam.csv\")\n"
   ]
  },
  {
   "cell_type": "code",
   "execution_count": 6,
   "id": "aabd02af-6510-4cb3-ad9b-71da993a816b",
   "metadata": {},
   "outputs": [
    {
     "name": "stdout",
     "output_type": "stream",
     "text": [
      "✅ Converted to numeric labels (0=ham, 1=spam)\n"
     ]
    }
   ],
   "source": [
    "sms = pd.read_csv(\"data/raw/sms_spam.csv\")\n",
    "sms['label'] = sms['label'].map({'ham': 0, 'spam': 1})\n",
    "sms.to_csv(\"data/raw/sms_spam_unified.csv\", index=False)\n",
    "print(\"✅ Converted to numeric labels (0=ham, 1=spam)\")\n"
   ]
  },
  {
   "cell_type": "code",
   "execution_count": 7,
   "id": "9c8c441c-0e2f-456e-b00f-a4da5d69361c",
   "metadata": {},
   "outputs": [
    {
     "name": "stdout",
     "output_type": "stream",
     "text": [
      "   label                                               text\n",
      "0      0  Go until jurong point, crazy.. Available only ...\n",
      "1      0                      Ok lar... Joking wif u oni...\n",
      "2      1  Free entry in 2 a wkly comp to win FA Cup fina...\n",
      "3      0  U dun say so early hor... U c already then say...\n",
      "4      0  Nah I don't think he goes to usf, he lives aro...\n",
      "label\n",
      "0    4825\n",
      "1     747\n",
      "Name: count, dtype: int64\n"
     ]
    }
   ],
   "source": [
    "print(sms.head())\n",
    "print(sms['label'].value_counts())\n"
   ]
  },
  {
   "cell_type": "code",
   "execution_count": null,
   "id": "4f6cd40a-a28c-483f-ade2-32788836ce58",
   "metadata": {},
   "outputs": [],
   "source": [
    "Quick check — confirm both processed raw files exist"
   ]
  },
  {
   "cell_type": "code",
   "execution_count": 8,
   "id": "408e0d8d-18d2-4852-89af-03c5490caf3e",
   "metadata": {},
   "outputs": [
    {
     "name": "stdout",
     "output_type": "stream",
     "text": [
      "Files in data\\raw: ['Fake.csv', 'fake_news.csv', 'sms+spam+collection', 'sms_spam.csv', 'sms_spam_unified.csv', 'True.csv']\n",
      "\n",
      "Preview fake_news.csv:\n",
      "                                               title  \\\n",
      "0  Ben Stein Calls Out 9th Circuit Court: Committ...   \n",
      "1  Trump drops Steve Bannon from National Securit...   \n",
      "2  Puerto Rico expects U.S. to lift Jones Act shi...   \n",
      "3   OOPS: Trump Just Accidentally Confirmed He Le...   \n",
      "4  Donald Trump heads for Scotland to reopen a go...   \n",
      "\n",
      "                                                text       subject  \\\n",
      "0  21st Century Wire says Ben Stein, reputable pr...       US_News   \n",
      "1  WASHINGTON (Reuters) - U.S. President Donald T...  politicsNews   \n",
      "2  (Reuters) - Puerto Rico Governor Ricardo Rosse...  politicsNews   \n",
      "3  On Monday, Donald Trump once again embarrassed...          News   \n",
      "4  GLASGOW, Scotland (Reuters) - Most U.S. presid...  politicsNews   \n",
      "\n",
      "                  date  label  \n",
      "0    February 13, 2017      1  \n",
      "1       April 5, 2017       0  \n",
      "2  September 27, 2017       0  \n",
      "3         May 22, 2017      1  \n",
      "4       June 24, 2016       0  \n",
      "\n",
      "Preview sms file:\n",
      "Reading data\\raw\\sms_spam.csv\n",
      "  label                                               text\n",
      "0   ham  Go until jurong point, crazy.. Available only ...\n",
      "1   ham                      Ok lar... Joking wif u oni...\n",
      "2  spam  Free entry in 2 a wkly comp to win FA Cup fina...\n",
      "3   ham  U dun say so early hor... U c already then say...\n",
      "4   ham  Nah I don't think he goes to usf, he lives aro...\n"
     ]
    }
   ],
   "source": [
    "import os, pandas as pd\n",
    "\n",
    "print(\"Files in data\\\\raw:\", os.listdir(\"data\\\\raw\"))\n",
    "print(\"\\nPreview fake_news.csv:\")\n",
    "print(pd.read_csv(\"data\\\\raw\\\\fake_news.csv\").head().iloc[:, :5])\n",
    "\n",
    "print(\"\\nPreview sms file:\")\n",
    "# try common names\n",
    "for name in [\"sms_spam.csv\",\"SMSSpamCollection\",\"sms_spam_unified.csv\",\"sms_spam_clean.csv\"]:\n",
    "    p = os.path.join(\"data\",\"raw\", name)\n",
    "    if os.path.exists(p):\n",
    "        print(\"Reading\", p)\n",
    "        try:\n",
    "            sms = pd.read_csv(p, encoding='latin1', sep=None, engine='python')\n",
    "        except Exception:\n",
    "            sms = pd.read_csv(p, encoding='latin1')\n",
    "        print(sms.head().iloc[:, :2])\n",
    "        break\n",
    "else:\n",
    "    print(\"No sms file found in data\\\\raw. Please check file name.\")\n"
   ]
  },
  {
   "cell_type": "code",
   "execution_count": null,
   "id": "b88b3423-a7aa-4c26-91af-90d0d7e6c771",
   "metadata": {},
   "outputs": [],
   "source": []
  }
 ],
 "metadata": {
  "kernelspec": {
   "display_name": "Python 3 (ipykernel)",
   "language": "python",
   "name": "python3"
  },
  "language_info": {
   "codemirror_mode": {
    "name": "ipython",
    "version": 3
   },
   "file_extension": ".py",
   "mimetype": "text/x-python",
   "name": "python",
   "nbconvert_exporter": "python",
   "pygments_lexer": "ipython3",
   "version": "3.12.4"
  }
 },
 "nbformat": 4,
 "nbformat_minor": 5
}
